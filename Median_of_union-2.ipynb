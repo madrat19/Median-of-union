{
 "cells": [
  {
   "cell_type": "markdown",
   "id": "7906022f",
   "metadata": {},
   "source": [
    "# Merge"
   ]
  },
  {
   "cell_type": "code",
   "execution_count": 80,
   "id": "61e005d2",
   "metadata": {},
   "outputs": [
    {
     "name": "stdout",
     "output_type": "stream",
     "text": [
      "7\n",
      "10\n",
      "9\n"
     ]
    }
   ],
   "source": [
    "def median_of_union(a, b, l):\n",
    "    c = []\n",
    "    i = j = 0\n",
    "    while i + j < l:\n",
    "        if a[i] < b[j]:\n",
    "            c.append(a[i])\n",
    "            i += 1\n",
    "        else:\n",
    "            c.append(b[j])\n",
    "            j += 1\n",
    "\n",
    "    return(c[-1])\n",
    "\n",
    "\n",
    "data = open('input.txt')\n",
    "n, l  = map(int, data.readline().split())\n",
    "sequences = []\n",
    "for _ in range(n):\n",
    "    x1, d1, a, c, m = map(int, data.readline().split())\n",
    "    seq = [x1]\n",
    "    d = d1\n",
    "    x = x1\n",
    "    for i in range(1, l):\n",
    "        x = x + d\n",
    "        seq.append(x)\n",
    "        d = (d * a + c) % m\n",
    "    \n",
    "    sequences.append(seq)\n",
    "        \n",
    "for i in range(n - 1):\n",
    "    for j in range(i + 1, n):\n",
    "        print(median_of_union(sequences[i], sequences[j], l))"
   ]
  },
  {
   "cell_type": "markdown",
   "id": "c17d3196",
   "metadata": {},
   "source": [
    "# Binsearch ^ 2"
   ]
  },
  {
   "cell_type": "code",
   "execution_count": 81,
   "id": "2453c146",
   "metadata": {},
   "outputs": [
    {
     "name": "stdout",
     "output_type": "stream",
     "text": [
      "7\n",
      "10\n",
      "9\n"
     ]
    }
   ],
   "source": [
    "def median_of_union(a, b, lenght):\n",
    "    def elements_before(x, seq):\n",
    "        if x < seq[0]:\n",
    "            return 0\n",
    "        l = 0\n",
    "        r = len(seq) - 1\n",
    "        while l < r:\n",
    "            m = (l + r + 1) // 2\n",
    "            if seq[m] <= x:\n",
    "                l = m\n",
    "            else:\n",
    "                r = m - 1\n",
    "        return l + 1\n",
    "    \n",
    "    def median_of_two(seq1, seq2):\n",
    "        l = min(seq1[0], seq2[0])\n",
    "        r = max(seq1[-1], seq2[-1])\n",
    "        while l < r:\n",
    "            m = (l + r) // 2\n",
    "            if elements_before(m, seq1) + elements_before(m, seq2) >= lenght:\n",
    "                r = m\n",
    "            else:\n",
    "                l = m + 1\n",
    "        return l\n",
    "    \n",
    "    return median_of_two(a, b)\n",
    "    \n",
    "\n",
    "\n",
    "\n",
    "data = open('input.txt')\n",
    "n, l  = map(int, data.readline().split())\n",
    "sequences = []\n",
    "for _ in range(n):\n",
    "    x1, d1, a, c, m = map(int, data.readline().split())\n",
    "    seq = [x1]\n",
    "    d = d1\n",
    "    x = x1\n",
    "    for i in range(1, l):\n",
    "        x = x + d\n",
    "        seq.append(x)\n",
    "        d = (d * a + c) % m\n",
    "    \n",
    "    sequences.append(seq)\n",
    "\n",
    "for i in range(n - 1):\n",
    "    for j in range(i + 1, n):\n",
    "        print(median_of_union(sequences[i], sequences[j], l))"
   ]
  },
  {
   "cell_type": "code",
   "execution_count": null,
   "id": "c5fa3bd8",
   "metadata": {},
   "outputs": [],
   "source": []
  }
 ],
 "metadata": {
  "kernelspec": {
   "display_name": "Python 3",
   "language": "python",
   "name": "python3"
  },
  "language_info": {
   "codemirror_mode": {
    "name": "ipython",
    "version": 3
   },
   "file_extension": ".py",
   "mimetype": "text/x-python",
   "name": "python",
   "nbconvert_exporter": "python",
   "pygments_lexer": "ipython3",
   "version": "3.8.8"
  }
 },
 "nbformat": 4,
 "nbformat_minor": 5
}
